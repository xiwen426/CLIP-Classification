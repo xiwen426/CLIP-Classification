{
 "cells": [
  {
   "cell_type": "code",
   "execution_count": 1,
   "metadata": {},
   "outputs": [],
   "source": [
    "import os\n",
    "import json\n",
    "import torch\n",
    "import clip\n",
    "import numpy as np\n",
    "from torch.utils.data import Dataset, DataLoader, random_split\n",
    "from PIL import Image\n",
    "from torch import nn, optim\n",
    "import matplotlib.pyplot as plt"
   ]
  },
  {
   "cell_type": "code",
   "execution_count": 2,
   "metadata": {},
   "outputs": [],
   "source": [
    "# Dataset\n",
    "class FashionDataset(Dataset):\n",
    "    def __init__(self, img_dir, styles_dir, transform=None):\n",
    "        self.img_dir = img_dir\n",
    "        self.styles_dir = styles_dir\n",
    "        self.transform = transform\n",
    "        self.images = []\n",
    "        self.descriptions = []\n",
    "        self.labels = []\n",
    "\n",
    "        for img_file in os.listdir(self.img_dir):\n",
    "            if img_file.endswith(\".jpg\"):\n",
    "                img_path = os.path.join(self.img_dir, img_file)\n",
    "                json_path = os.path.join(self.styles_dir, img_file.replace('.jpg', '.json'))\n",
    "                if os.path.exists(json_path):\n",
    "                    with open(json_path, 'r') as f:\n",
    "                        style_data = json.load(f)\n",
    "                    description = style_data.get(\"data\", {}).get(\"productDescriptors\", {}).get(\"description\", {}).get(\"value\", '')\n",
    "                    category = style_data.get(\"data\", {}).get(\"subCategory\", {}).get(\"typeName\", '')\n",
    "                    \n",
    "                    self.images.append(img_path)\n",
    "                    self.descriptions.append(description)\n",
    "                    self.labels.append(category)\n",
    "\n",
    "    def __len__(self):\n",
    "        return len(self.images)\n",
    "\n",
    "    def __getitem__(self, idx):\n",
    "        img_path = self.images[idx]\n",
    "        description = self.descriptions[idx]\n",
    "        label = self.labels[idx]\n",
    "\n",
    "        image = Image.open(img_path).convert('RGB')\n",
    "        if self.transform:\n",
    "            image = self.transform(image)\n",
    "        \n",
    "        return image, description, label"
   ]
  },
  {
   "cell_type": "code",
   "execution_count": 3,
   "metadata": {},
   "outputs": [],
   "source": [
    "# Define a custom head for classification\n",
    "class CustomCLIP(nn.Module):\n",
    "    def __init__(self, clip_model, num_classes):\n",
    "        super(CustomCLIP, self).__init__()\n",
    "        self.clip_model = clip_model\n",
    "        self.fc = nn.Linear(self.clip_model.visual.output_dim, num_classes)\n",
    "\n",
    "    def forward(self, images):\n",
    "        with torch.no_grad():\n",
    "            image_features = self.clip_model.encode_image(images).float()\n",
    "        outputs = self.fc(image_features)\n",
    "        return outputs"
   ]
  },
  {
   "cell_type": "code",
   "execution_count": 4,
   "metadata": {},
   "outputs": [],
   "source": [
    "# Load CLIP model and preprocess\n",
    "device = \"cuda:0\" if torch.cuda.is_available() else \"cpu\"\n",
    "model, preprocess = clip.load(\"ViT-B/32\", device=device, jit=False)"
   ]
  },
  {
   "cell_type": "code",
   "execution_count": 5,
   "metadata": {},
   "outputs": [],
   "source": [
    "# Prepare dataset\n",
    "img_dir = \"./data/fashion-dataset/images/\"\n",
    "styles_dir = \"./data/fashion-dataset/styles/\"\n",
    "dataset = FashionDataset(img_dir, styles_dir, transform=preprocess)"
   ]
  },
  {
   "cell_type": "code",
   "execution_count": 6,
   "metadata": {},
   "outputs": [],
   "source": [
    "# # display a transformed image\n",
    "# transformed_image, description, label = dataset[0]\n",
    "# transformed_image = transformed_image.permute(1, 2, 0).numpy() \n",
    "# plt.imshow(transformed_image)\n",
    "# plt.show()\n"
   ]
  },
  {
   "cell_type": "code",
   "execution_count": 7,
   "metadata": {},
   "outputs": [
    {
     "name": "stdout",
     "output_type": "stream",
     "text": [
      "Train size:  3555 , Val size:  888\n"
     ]
    }
   ],
   "source": [
    "# Split the dataset into training and validation sets\n",
    "train_size = int(0.08 * len(dataset))\n",
    "val_size = int(0.02 * len(dataset))\n",
    "remain_size = len(dataset) - train_size - val_size\n",
    "train_dataset, val_dataset, remain_dataset = random_split(dataset, [train_size, val_size, remain_size], generator=torch.Generator().manual_seed(123))\n",
    "\n",
    "# train_dataset = torch.utils.data.Subset(train_dataset, list(range(500))) \n",
    "# val_dataset = torch.utils.data.Subset(val_dataset, list(range(100)))\n",
    "\n",
    "train_loader = DataLoader(train_dataset, batch_size=32, shuffle=True)\n",
    "val_loader = DataLoader(val_dataset, batch_size=32, shuffle=False)\n",
    "print(\"Train size: \", train_size, \", Val size: \", val_size)\n"
   ]
  },
  {
   "cell_type": "code",
   "execution_count": 8,
   "metadata": {},
   "outputs": [],
   "source": [
    "# Initialize the model with the number of classes\n",
    "num_classes = len(set(dataset.labels))\n",
    "model = CustomCLIP(model, num_classes).to(device)"
   ]
  },
  {
   "cell_type": "code",
   "execution_count": 9,
   "metadata": {},
   "outputs": [],
   "source": [
    "# Define the loss function and optimizer\n",
    "criterion = nn.CrossEntropyLoss()\n",
    "optimizer = optim.AdamW(model.parameters(), lr=1e-4)\n",
    "set(dataset.labels)\n",
    "\n",
    "# Create a label-to-index mapping\n",
    "unique_labels = list(set(dataset.labels))\n",
    "label_to_index = {label: idx for idx, label in enumerate(unique_labels)}"
   ]
  },
  {
   "cell_type": "code",
   "execution_count": 10,
   "metadata": {},
   "outputs": [
    {
     "name": "stdout",
     "output_type": "stream",
     "text": [
      "Epoch [1/30], Train Loss: 0.1058, Train Accuracy: 0.1525, Val Loss: 0.0893, Val Accuracy: 0.3660\n",
      "Epoch [2/30], Train Loss: 0.0777, Train Accuracy: 0.5103, Val Loss: 0.0676, Val Accuracy: 0.5304\n",
      "Epoch [3/30], Train Loss: 0.0604, Train Accuracy: 0.5668, Val Loss: 0.0549, Val Accuracy: 0.5766\n",
      "Epoch [4/30], Train Loss: 0.0502, Train Accuracy: 0.6264, Val Loss: 0.0467, Val Accuracy: 0.6441\n",
      "Epoch [5/30], Train Loss: 0.0430, Train Accuracy: 0.6821, Val Loss: 0.0406, Val Accuracy: 0.7140\n",
      "Epoch [6/30], Train Loss: 0.0377, Train Accuracy: 0.7516, Val Loss: 0.0358, Val Accuracy: 0.7669\n",
      "Epoch [7/30], Train Loss: 0.0336, Train Accuracy: 0.7871, Val Loss: 0.0318, Val Accuracy: 0.7950\n",
      "Epoch [8/30], Train Loss: 0.0300, Train Accuracy: 0.8217, Val Loss: 0.0286, Val Accuracy: 0.8232\n",
      "Epoch [9/30], Train Loss: 0.0271, Train Accuracy: 0.8383, Val Loss: 0.0259, Val Accuracy: 0.8435\n",
      "Epoch [10/30], Train Loss: 0.0248, Train Accuracy: 0.8529, Val Loss: 0.0237, Val Accuracy: 0.8559\n",
      "Epoch [11/30], Train Loss: 0.0229, Train Accuracy: 0.8630, Val Loss: 0.0218, Val Accuracy: 0.8637\n",
      "Epoch [12/30], Train Loss: 0.0209, Train Accuracy: 0.8726, Val Loss: 0.0202, Val Accuracy: 0.8716\n",
      "Epoch [13/30], Train Loss: 0.0195, Train Accuracy: 0.8790, Val Loss: 0.0188, Val Accuracy: 0.8761\n",
      "Epoch [14/30], Train Loss: 0.0183, Train Accuracy: 0.8861, Val Loss: 0.0176, Val Accuracy: 0.8818\n",
      "Epoch [15/30], Train Loss: 0.0171, Train Accuracy: 0.8911, Val Loss: 0.0166, Val Accuracy: 0.8941\n",
      "Epoch [16/30], Train Loss: 0.0163, Train Accuracy: 0.8985, Val Loss: 0.0157, Val Accuracy: 0.9020\n",
      "Epoch [17/30], Train Loss: 0.0153, Train Accuracy: 0.9024, Val Loss: 0.0149, Val Accuracy: 0.9088\n",
      "Epoch [18/30], Train Loss: 0.0145, Train Accuracy: 0.9066, Val Loss: 0.0142, Val Accuracy: 0.9110\n",
      "Epoch [19/30], Train Loss: 0.0139, Train Accuracy: 0.9100, Val Loss: 0.0136, Val Accuracy: 0.9110\n",
      "Epoch [20/30], Train Loss: 0.0137, Train Accuracy: 0.9122, Val Loss: 0.0130, Val Accuracy: 0.9122\n",
      "Epoch [21/30], Train Loss: 0.0128, Train Accuracy: 0.9148, Val Loss: 0.0126, Val Accuracy: 0.9212\n",
      "Epoch [22/30], Train Loss: 0.0123, Train Accuracy: 0.9173, Val Loss: 0.0121, Val Accuracy: 0.9200\n",
      "Epoch [23/30], Train Loss: 0.0118, Train Accuracy: 0.9184, Val Loss: 0.0117, Val Accuracy: 0.9223\n",
      "Epoch [24/30], Train Loss: 0.0114, Train Accuracy: 0.9207, Val Loss: 0.0113, Val Accuracy: 0.9212\n",
      "Epoch [25/30], Train Loss: 0.0114, Train Accuracy: 0.9241, Val Loss: 0.0109, Val Accuracy: 0.9223\n",
      "Epoch [26/30], Train Loss: 0.0108, Train Accuracy: 0.9246, Val Loss: 0.0107, Val Accuracy: 0.9234\n",
      "Epoch [27/30], Train Loss: 0.0103, Train Accuracy: 0.9277, Val Loss: 0.0104, Val Accuracy: 0.9268\n",
      "Epoch [28/30], Train Loss: 0.0101, Train Accuracy: 0.9305, Val Loss: 0.0101, Val Accuracy: 0.9268\n",
      "Epoch [29/30], Train Loss: 0.0097, Train Accuracy: 0.9308, Val Loss: 0.0098, Val Accuracy: 0.9279\n",
      "Epoch [30/30], Train Loss: 0.0094, Train Accuracy: 0.9297, Val Loss: 0.0096, Val Accuracy: 0.9291\n",
      "Training complete.\n"
     ]
    }
   ],
   "source": [
    "# Lists to store accuracy values for plotting\n",
    "train_accuracies = []\n",
    "val_accuracies = []\n",
    "\n",
    "# Training loop\n",
    "num_epochs = 30\n",
    "for epoch in range(num_epochs):\n",
    "    model.train()\n",
    "    running_loss = 0.0\n",
    "    correct_predictions = 0\n",
    "    total_predictions = 0\n",
    "    for images, _, labels in train_loader:\n",
    "        images = images.to(device)\n",
    "        labels = torch.tensor([label_to_index[label] for label in labels]).to(device)\n",
    "        # print(\"image shape: \", images.shape)\n",
    "        # print(\"labels: \", labels.shape, \"\\n, labels: \", labels)\n",
    "\n",
    "        # Forward pass\n",
    "        outputs = model(images)\n",
    "        loss = criterion(outputs, labels)\n",
    "\n",
    "        # Backward pass and optimization\n",
    "        optimizer.zero_grad()\n",
    "        loss.backward()\n",
    "        optimizer.step()\n",
    "\n",
    "        running_loss += loss.item()\n",
    "\n",
    "        # Calculate accuracy\n",
    "        _, predicted_labels = torch.max(outputs, 1)\n",
    "        correct_predictions += (predicted_labels == labels).sum().item()\n",
    "        total_predictions += labels.size(0)\n",
    "\n",
    "    train_accuracy = correct_predictions / total_predictions\n",
    "    train_accuracies.append(train_accuracy)\n",
    "\n",
    "    # Validation loop\n",
    "    model.eval()\n",
    "    val_loss = 0.0\n",
    "    correct_predictions = 0\n",
    "    total_predictions = 0\n",
    "    with torch.no_grad():\n",
    "        for images, _, labels in val_loader:\n",
    "            images = images.to(device)\n",
    "            # labels = torch.tensor([dataset.labels.index(label) for label in labels]).to(device)\n",
    "            labels = torch.tensor([label_to_index[label] for label in labels]).to(device)\n",
    "\n",
    "            outputs = model(images)\n",
    "            loss = criterion(outputs, labels)\n",
    "            val_loss += loss.item()\n",
    "\n",
    "            # Calculate accuracy\n",
    "            _, predicted_labels = torch.max(outputs, 1)\n",
    "            correct_predictions += (predicted_labels == labels).sum().item()\n",
    "            total_predictions += labels.size(0)\n",
    "\n",
    "    val_accuracy = correct_predictions / total_predictions\n",
    "    val_accuracies.append(val_accuracy)\n",
    "    print(f\"Epoch [{epoch + 1}/{num_epochs}], Train Loss: {running_loss/train_size:.4f}, Train Accuracy: {train_accuracy:.4f}, Val Loss: {val_loss/val_size:.4f}, Val Accuracy: {val_accuracy:.4f}\")\n",
    "\n",
    "print(\"Training complete.\")"
   ]
  },
  {
   "cell_type": "code",
   "execution_count": 12,
   "metadata": {},
   "outputs": [
    {
     "data": {
      "image/png": "[encoded data removed]",
      "text/plain": [
       "<Figure size 1000x500 with 1 Axes>"
      ]
     },
     "metadata": {},
     "output_type": "display_data"
    }
   ],
   "source": [
    "# Plotting training and validation accuracy\n",
    "plt.figure(figsize=(10, 5))\n",
    "plt.plot(range(1, num_epochs + 1), train_accuracies, label='Train Accuracy')\n",
    "plt.plot(range(1, num_epochs + 1), val_accuracies, label='Validation Accuracy')\n",
    "plt.xlabel('Epochs')\n",
    "plt.ylabel('Accuracy')\n",
    "plt.title('Training and Validation Accuracy Over Epochs')\n",
    "plt.legend()\n",
    "plt.show()"
   ]
  },
  {
   "cell_type": "code",
   "execution_count": null,
   "metadata": {},
   "outputs": [],
   "source": []
  }
 ],
 "metadata": {
  "kernelspec": {
   "display_name": "fashion",
   "language": "python",
   "name": "python3"
  },
  "language_info": {
   "codemirror_mode": {
    "name": "ipython",
    "version": 3
   },
   "file_extension": ".py",
   "mimetype": "text/x-python",
   "name": "python",
   "nbconvert_exporter": "python",
   "pygments_lexer": "ipython3",
   "version": "3.9.19"
  },
  "orig_nbformat": 4,
  "vscode": {
   "interpreter": {
    "hash": "776a537e8ca9adeeae87eaae715287238a0a08919ec40c17f8a9819bcf998b83"
   }
  }
 },
 "nbformat": 4,
 "nbformat_minor": 2
}
