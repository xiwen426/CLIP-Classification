{
 "cells": [
  {
   "cell_type": "code",
   "execution_count": 1,
   "metadata": {},
   "outputs": [],
   "source": [
    "import os\n",
    "import json\n",
    "import torch\n",
    "import clip\n",
    "import numpy as np\n",
    "from torch.utils.data import Dataset, DataLoader, random_split\n",
    "from PIL import Image\n",
    "from torch import nn, optim\n",
    "import matplotlib.pyplot as plt"
   ]
  },
  {
   "cell_type": "code",
   "execution_count": 2,
   "metadata": {},
   "outputs": [],
   "source": [
    "# Dataset\n",
    "class FashionDataset(Dataset):\n",
    "    def __init__(self, img_dir, styles_dir, transform=None):\n",
    "        self.img_dir = img_dir\n",
    "        self.styles_dir = styles_dir\n",
    "        self.transform = transform\n",
    "        self.images = []\n",
    "        self.descriptions = []\n",
    "        self.labels = []\n",
    "\n",
    "        for img_file in os.listdir(self.img_dir):\n",
    "            if img_file.endswith(\".jpg\"):\n",
    "                img_path = os.path.join(self.img_dir, img_file)\n",
    "                json_path = os.path.join(self.styles_dir, img_file.replace('.jpg', '.json'))\n",
    "                if os.path.exists(json_path):\n",
    "                    with open(json_path, 'r') as f:\n",
    "                        style_data = json.load(f)\n",
    "                    description = style_data.get(\"data\", {}).get(\"productDescriptors\", {}).get(\"description\", {}).get(\"value\", '')\n",
    "                    category = style_data.get(\"data\", {}).get(\"subCategory\", {}).get(\"typeName\", '')\n",
    "                    \n",
    "                    self.images.append(img_path)\n",
    "                    self.descriptions.append(description)\n",
    "                    self.labels.append(category)\n",
    "\n",
    "        self.text = clip.tokenize(self.labels)\n",
    "\n",
    "\n",
    "    def __len__(self):\n",
    "        return len(self.images)\n",
    "\n",
    "    def __getitem__(self, idx):\n",
    "        img_path = self.images[idx]\n",
    "        description = self.descriptions[idx]\n",
    "        label = self.labels[idx]\n",
    "        text = self.text[idx]\n",
    "\n",
    "        image = Image.open(img_path).convert('RGB')\n",
    "        if self.transform:\n",
    "            image = self.transform(image)\n",
    "        \n",
    "        return image, description, label, text\n",
    "\n"
   ]
  },
  {
   "cell_type": "code",
   "execution_count": 3,
   "metadata": {},
   "outputs": [],
   "source": [
    "# Load CLIP model and preprocess\n",
    "device = \"cuda:0\" if torch.cuda.is_available() else \"cpu\"\n",
    "model, preprocess = clip.load(\"ViT-B/32\", device=device, jit=False)"
   ]
  },
  {
   "cell_type": "code",
   "execution_count": 4,
   "metadata": {},
   "outputs": [],
   "source": [
    "# Prepare dataset\n",
    "img_dir = \"./data/fashion-dataset/images/\"\n",
    "styles_dir = \"./data/fashion-dataset/styles/\"\n",
    "dataset = FashionDataset(img_dir, styles_dir, transform=preprocess)"
   ]
  },
  {
   "cell_type": "code",
   "execution_count": 6,
   "metadata": {},
   "outputs": [],
   "source": [
    "# # display a transformed image\n",
    "# transformed_image, description, label, text = dataset[0]\n",
    "# transformed_image = transformed_image.permute(1, 2, 0).numpy() \n",
    "\n",
    "# plt.imshow(transformed_image)\n",
    "# plt.show()\n",
    "\n",
    "# print(\"label: \", label, \", text: \", text.shape)"
   ]
  },
  {
   "cell_type": "code",
   "execution_count": 7,
   "metadata": {},
   "outputs": [
    {
     "name": "stdout",
     "output_type": "stream",
     "text": [
      "Train size:  3555 , Val size:  888\n"
     ]
    }
   ],
   "source": [
    "# Split the dataset into training and validation sets\n",
    "train_size = int(0.08 * len(dataset))\n",
    "val_size = int(0.02 * len(dataset))\n",
    "remain_size = len(dataset) - train_size - val_size\n",
    "train_dataset, val_dataset, remain_dataset = random_split(dataset, [train_size, val_size, remain_size], generator=torch.Generator().manual_seed(123))\n",
    "\n",
    "# train_dataset = torch.utils.data.Subset(train_dataset, list(range(500))) \n",
    "# val_dataset = torch.utils.data.Subset(val_dataset, list(range(100)))\n",
    "\n",
    "train_loader = DataLoader(train_dataset, batch_size=32, shuffle=True)\n",
    "val_loader = DataLoader(val_dataset, batch_size=32, shuffle=False)\n",
    "print(\"Train size: \", train_size, \", Val size: \", val_size)"
   ]
  },
  {
   "cell_type": "code",
   "execution_count": 8,
   "metadata": {},
   "outputs": [],
   "source": [
    "# Define the loss function and optimizer\n",
    "criterion = nn.CrossEntropyLoss()\n",
    "optimizer = optim.AdamW(model.parameters(), lr=1e-4)\n",
    "\n",
    "# # Create a label-to-index mapping\n",
    "unique_labels = list(set(dataset.labels))\n",
    "# label_to_index = {label: idx for idx, label in enumerate(unique_labels)}"
   ]
  },
  {
   "cell_type": "code",
   "execution_count": 9,
   "metadata": {},
   "outputs": [
    {
     "name": "stdout",
     "output_type": "stream",
     "text": [
      "Epoch [1/50], Train Loss: 0.1091, Val Loss: 0.1088, Val Accuracy: 0.0000\n",
      "Epoch [2/50], Train Loss: 0.1030, Val Loss: 0.0904, Val Accuracy: 0.3468\n",
      "Epoch [3/50], Train Loss: 0.0851, Val Loss: 0.0787, Val Accuracy: 0.4617\n",
      "Epoch [4/50], Train Loss: 0.0776, Val Loss: 0.0778, Val Accuracy: 0.3164\n",
      "Epoch [5/50], Train Loss: 0.0705, Val Loss: 0.0751, Val Accuracy: 0.4200\n",
      "Epoch [6/50], Train Loss: 0.0665, Val Loss: 0.0662, Val Accuracy: 0.6160\n",
      "Epoch [7/50], Train Loss: 0.0631, Val Loss: 0.0701, Val Accuracy: 0.6655\n",
      "Epoch [8/50], Train Loss: 0.0603, Val Loss: 0.0652, Val Accuracy: 0.6047\n",
      "Epoch [9/50], Train Loss: 0.0575, Val Loss: 0.0721, Val Accuracy: 0.6610\n",
      "Epoch [10/50], Train Loss: 0.0564, Val Loss: 0.0689, Val Accuracy: 0.5912\n",
      "Epoch [11/50], Train Loss: 0.0546, Val Loss: 0.0678, Val Accuracy: 0.7016\n",
      "Epoch [12/50], Train Loss: 0.0541, Val Loss: 0.0680, Val Accuracy: 0.7095\n",
      "Epoch [13/50], Train Loss: 0.0524, Val Loss: 0.0650, Val Accuracy: 0.7331\n",
      "Epoch [14/50], Train Loss: 0.0508, Val Loss: 0.0658, Val Accuracy: 0.6610\n"
     ]
    }
   ],
   "source": [
    "def convert_models_to_fp32(model): \n",
    "    for p in model.parameters(): \n",
    "        p.data = p.data.float() \n",
    "        p.grad.data = p.grad.data.float() \n",
    "\n",
    "# Lists to store accuracy values for plotting\n",
    "train_accuracies = []\n",
    "val_accuracies = []\n",
    "\n",
    "# Training loop\n",
    "num_epochs = 50\n",
    "for epoch in range(num_epochs):\n",
    "    model.train()\n",
    "    running_loss = 0.0\n",
    "    correct_predictions = 0\n",
    "    total_predictions = 0\n",
    "    for images, _, labels, text in train_loader:\n",
    "        images = images.to(device)\n",
    "        text = text.to(device)\n",
    "\n",
    "        # Forward pass\n",
    "        logits_per_image, logits_per_text = model(images, text)\n",
    "\n",
    "        # Compute the loss\n",
    "        ground_truth = torch.arange(len(images), dtype=torch.long, device=device)\n",
    "        total_loss = (criterion(logits_per_image, ground_truth) + criterion(logits_per_text, ground_truth)) / 2\n",
    "\n",
    "        # Backward pass and optimization\n",
    "        optimizer.zero_grad()\n",
    "        total_loss.backward()\n",
    "        convert_models_to_fp32(model)\n",
    "        optimizer.step()\n",
    "        clip.model.convert_weights(model)\n",
    "\n",
    "        running_loss += total_loss.item()\n",
    "\n",
    "    # Validation loop\n",
    "    model.eval()\n",
    "    val_loss = 0.0\n",
    "    correct_predictions = 0\n",
    "    total_predictions = 0\n",
    "    with torch.no_grad():\n",
    "        for images, _, labels, text in val_loader:\n",
    "            images = images.to(device)\n",
    "            text = text.to(device)\n",
    "\n",
    "            # Forward pass\n",
    "            logits_per_image, logits_per_text = model(images, text)\n",
    "\n",
    "            # Compute the loss\n",
    "            ground_truth = torch.arange(len(images), dtype=torch.long, device=device)\n",
    "            total_loss = (criterion(logits_per_image, ground_truth) + criterion(logits_per_text, ground_truth)) / 2\n",
    "            val_loss += total_loss.item()\n",
    "\n",
    "            # Calculate accuracy\n",
    "            labels_text = torch.cat([clip.tokenize(f\"{c}\") for c in unique_labels]).to(device)\n",
    "            # print(\"images: \", images)\n",
    "            # print(\"labels_text: \", labels_text)\n",
    "            image_features = model.encode_image(images)\n",
    "            text_features = model.encode_text(labels_text)\n",
    "            # print(\"image_features: \", image_features)\n",
    "            # print(\"text_features: \", text_features)\n",
    "\n",
    "            # Normalize image and text features\n",
    "            image_features /= image_features.norm(dim=-1, keepdim=True)\n",
    "            text_features /= text_features.norm(dim=-1, keepdim=True)\n",
    "\n",
    "            # Calculate similarity scores\n",
    "            similarity = (100.0 * image_features @ text_features.T).softmax(dim=-1)\n",
    "            # print(\"similarity: \", similarity)\n",
    "            # print(\"similarity: \", similarity.shape)\n",
    "            values, indices = similarity.topk(1, dim=-1)\n",
    "            # print(\"indices: \", indices.shape)\n",
    "            indices = indices.squeeze()\n",
    "\n",
    "            # print(\"indices: \", indices.shape)\n",
    "            # print(\"values: \", values)\n",
    "            predicted_labels = [unique_labels[i] for i in indices]\n",
    "            # print(\"Predicted labels: \", predicted_labels)\n",
    "            # print(\"Actual labels: \", labels)\n",
    "            correct_predictions += sum([pred == actual for pred, actual in zip(predicted_labels, labels)])\n",
    "            # correct_predictions += (unique_labels[indices] == labels).sum().item()\n",
    "            total_predictions += len(labels)\n",
    "\n",
    "    val_accuracy = correct_predictions / total_predictions\n",
    "    print(f\"Epoch [{epoch + 1}/{num_epochs}], Train Loss: {running_loss/train_size:.4f}, Val Loss: {val_loss/val_size:.4f}, Val Accuracy: {val_accuracy:.4f}\")\n",
    "\n",
    "print(\"Training complete.\")"
   ]
  },
  {
   "cell_type": "code",
   "execution_count": null,
   "metadata": {},
   "outputs": [],
   "source": [
    "# Plotting training and validation accuracy\n",
    "plt.figure(figsize=(10, 5))\n",
    "plt.plot(range(1, num_epochs + 1), train_accuracies, label='Train Accuracy')\n",
    "plt.plot(range(1, num_epochs + 1), val_accuracies, label='Validation Accuracy')\n",
    "plt.xlabel('Epochs')\n",
    "plt.ylabel('Accuracy')\n",
    "plt.title('Training and Validation Accuracy Over Epochs')\n",
    "plt.legend()\n",
    "plt.show()"
   ]
  }
 ],
 "metadata": {
  "kernelspec": {
   "display_name": "fashion",
   "language": "python",
   "name": "python3"
  },
  "language_info": {
   "codemirror_mode": {
    "name": "ipython",
    "version": 3
   },
   "file_extension": ".py",
   "mimetype": "text/x-python",
   "name": "python",
   "nbconvert_exporter": "python",
   "pygments_lexer": "ipython3",
   "version": "3.9.19"
  },
  "orig_nbformat": 4,
  "vscode": {
   "interpreter": {
    "hash": "776a537e8ca9adeeae87eaae715287238a0a08919ec40c17f8a9819bcf998b83"
   }
  }
 },
 "nbformat": 4,
 "nbformat_minor": 2
}
